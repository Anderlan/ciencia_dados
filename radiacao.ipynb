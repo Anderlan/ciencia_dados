{
 "cells": [
  {
   "cell_type": "code",
   "execution_count": 3,
   "id": "8bf2517f-90ba-47b4-890c-6f3a0044e355",
   "metadata": {},
   "outputs": [
    {
     "ename": "ModuleNotFoundError",
     "evalue": "No module named 'pandas'",
     "output_type": "error",
     "traceback": [
      "\u001b[31m---------------------------------------------------------------------------\u001b[39m",
      "\u001b[31mModuleNotFoundError\u001b[39m                       Traceback (most recent call last)",
      "\u001b[36mCell\u001b[39m\u001b[36m \u001b[39m\u001b[32mIn[3]\u001b[39m\u001b[32m, line 1\u001b[39m\n\u001b[32m----> \u001b[39m\u001b[32m1\u001b[39m \u001b[38;5;28;01mimport\u001b[39;00m\u001b[38;5;250m \u001b[39m\u001b[34;01mpandas\u001b[39;00m\u001b[38;5;250m \u001b[39m\u001b[38;5;28;01mas\u001b[39;00m\u001b[38;5;250m \u001b[39m\u001b[34;01mpd\u001b[39;00m\n\u001b[32m      2\u001b[39m \u001b[38;5;28;01mimport\u001b[39;00m\u001b[38;5;250m \u001b[39m\u001b[34;01mnumpy\u001b[39;00m\u001b[38;5;250m \u001b[39m\u001b[38;5;28;01mas\u001b[39;00m\u001b[38;5;250m \u001b[39m\u001b[34;01mnp\u001b[39;00m\n\u001b[32m      3\u001b[39m \u001b[38;5;28;01mimport\u001b[39;00m\u001b[38;5;250m \u001b[39m\u001b[34;01mmatplotlib\u001b[39;00m\u001b[34;01m.\u001b[39;00m\u001b[34;01mpyplot\u001b[39;00m\u001b[38;5;250m \u001b[39m\u001b[38;5;28;01mas\u001b[39;00m\u001b[38;5;250m \u001b[39m\u001b[34;01mplt\u001b[39;00m\n",
      "\u001b[31mModuleNotFoundError\u001b[39m: No module named 'pandas'"
     ]
    }
   ],
   "source": [
    "import pandas as pd\n",
    "import numpy as np\n",
    "import matplotlib.pyplot as plt"
   ]
  },
  {
   "cell_type": "code",
   "execution_count": null,
   "id": "3f698188-95e3-408a-b838-950c4191aae1",
   "metadata": {},
   "outputs": [],
   "source": [
    "data = pd.read_csv('dados.csv', encoding='latin1', sep = ';', decimal =',')"
   ]
  },
  {
   "cell_type": "code",
   "execution_count": null,
   "id": "f6cece46-efdd-4415-9a1b-94aa64a9d224",
   "metadata": {},
   "outputs": [],
   "source": [
    "data.head(10)"
   ]
  },
  {
   "cell_type": "code",
   "execution_count": null,
   "id": "4b04cc81-2dcc-497b-b37a-f66b2df74feb",
   "metadata": {},
   "outputs": [],
   "source": [
    "df_radiacao = data[['Data','Hora UTC', 'RADIACAO GLOBAL (Kj/m²)']]"
   ]
  },
  {
   "cell_type": "code",
   "execution_count": null,
   "id": "57b90566-8dbe-4cff-bdcb-798367cfa60e",
   "metadata": {},
   "outputs": [],
   "source": [
    "df_radiacao.head(10)"
   ]
  },
  {
   "cell_type": "code",
   "execution_count": null,
   "id": "9ec38089-acd9-4780-b564-60bd7bea8255",
   "metadata": {},
   "outputs": [],
   "source": [
    "df_radiacao = df_radiacao.dropna()"
   ]
  },
  {
   "cell_type": "code",
   "execution_count": null,
   "id": "26d65f68-0cfe-4062-92d6-a3ee261f1513",
   "metadata": {},
   "outputs": [],
   "source": [
    "print(df_radiacao)"
   ]
  },
  {
   "cell_type": "code",
   "execution_count": null,
   "id": "8a07f834-b0a5-44f0-9422-53f6b7d3c931",
   "metadata": {},
   "outputs": [],
   "source": [
    "df_radiacao.shape"
   ]
  },
  {
   "cell_type": "code",
   "execution_count": null,
   "id": "c16c430f-bc97-4ef0-8c7d-2d0118b24811",
   "metadata": {},
   "outputs": [],
   "source": [
    "df_radiacao.to_csv('radiacao.csv',sep=';')"
   ]
  },
  {
   "cell_type": "code",
   "execution_count": null,
   "id": "0637a1d8-f558-4fea-96d9-0bda64d6c1fb",
   "metadata": {},
   "outputs": [],
   "source": [
    "#df_radiacao = df_radiacao[ df_radiacao['RADIACAO GLOBAL (Kj/m²)']>29]"
   ]
  },
  {
   "cell_type": "code",
   "execution_count": null,
   "id": "d56b181f-1470-43f7-8dbf-125816e4473d",
   "metadata": {},
   "outputs": [],
   "source": [
    "#df_radiacao.shape"
   ]
  },
  {
   "cell_type": "code",
   "execution_count": null,
   "id": "58567147-807f-42ab-8baf-73c13d5066a5",
   "metadata": {},
   "outputs": [],
   "source": [
    "df_radiacao['Hora UTC'] = pd.to_datetime(df_radiacao['Data'] + df_radiacao['Hora UTC'], format='%d/%m/%y%H%M UTC',utc=True)\n",
    "\n",
    "# Converta para o fuso horário local (ex: São Paulo)\n",
    "df_radiacao['Hora Local'] = df_radiacao['Hora UTC'].dt.tz_convert('America/Sao_Paulo')"
   ]
  },
  {
   "cell_type": "code",
   "execution_count": null,
   "id": "30670dfe-4a24-4719-b7b8-2ca4b4518f72",
   "metadata": {},
   "outputs": [],
   "source": [
    "df_radiacao.head()"
   ]
  },
  {
   "cell_type": "code",
   "execution_count": null,
   "id": "ea99437f-e8d4-4873-90aa-00b6a0d2c2dd",
   "metadata": {},
   "outputs": [],
   "source": [
    "df_radiacao = df_radiacao[df_radiacao['Hora Local'].dt.hour.between(6, 18)]"
   ]
  },
  {
   "cell_type": "code",
   "execution_count": null,
   "id": "317960b2-5218-43ec-a58a-13bb8ba78f8e",
   "metadata": {},
   "outputs": [],
   "source": [
    "df_radiacao.head(20)"
   ]
  },
  {
   "cell_type": "code",
   "execution_count": null,
   "id": "b6892570-ac5d-4c4a-a918-1ec5d3a1c8b7",
   "metadata": {},
   "outputs": [],
   "source": [
    "df_radiacao.shape"
   ]
  },
  {
   "cell_type": "code",
   "execution_count": null,
   "id": "2271cbb6-94c3-4b7c-937b-f5d076374151",
   "metadata": {},
   "outputs": [],
   "source": [
    "# Formatar Hora UTC sem timezone\n",
    "df_radiacao['Hora UTC'] = df_radiacao['Hora UTC'].dt.strftime('%H:%M')\n",
    "\n",
    "# Se quiser também para Hora Local:\n",
    "df_radiacao['Hora Local'] = df_radiacao['Hora Local'].dt.strftime('%H:%M')\n"
   ]
  },
  {
   "cell_type": "code",
   "execution_count": null,
   "id": "f427fbca-46c7-4fbf-9190-2eeb9463a3c1",
   "metadata": {},
   "outputs": [],
   "source": [
    "df_radiacao"
   ]
  },
  {
   "cell_type": "code",
   "execution_count": null,
   "id": "ea310fb7-03b9-42da-8d47-acb300f7f565",
   "metadata": {},
   "outputs": [],
   "source": [
    "dias = df_radiacao['Data'].to_list()"
   ]
  },
  {
   "cell_type": "code",
   "execution_count": null,
   "id": "78a87425-bf0d-4d2c-be64-61d51e119559",
   "metadata": {},
   "outputs": [],
   "source": [
    "len(set(dias))"
   ]
  },
  {
   "cell_type": "code",
   "execution_count": null,
   "id": "b57e1fc4-903d-4443-b645-897b8ad41524",
   "metadata": {},
   "outputs": [],
   "source": [
    "#df_radiacao.to_csv('nome_do_novo_arquivo.csv', index=False, sep=';', encoding='utf-8')"
   ]
  },
  {
   "cell_type": "code",
   "execution_count": null,
   "id": "ee8c0f3e-b8a3-460a-9a89-e46fab892800",
   "metadata": {},
   "outputs": [],
   "source": []
  }
 ],
 "metadata": {
  "kernelspec": {
   "display_name": ".venv (3.12.10)",
   "language": "python",
   "name": "python3"
  },
  "language_info": {
   "codemirror_mode": {
    "name": "ipython",
    "version": 3
   },
   "file_extension": ".py",
   "mimetype": "text/x-python",
   "name": "python",
   "nbconvert_exporter": "python",
   "pygments_lexer": "ipython3",
   "version": "3.12.10"
  }
 },
 "nbformat": 4,
 "nbformat_minor": 5
}
